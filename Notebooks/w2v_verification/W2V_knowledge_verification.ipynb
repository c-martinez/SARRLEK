{
 "cells": [
  {
   "cell_type": "code",
   "execution_count": 1,
   "metadata": {},
   "outputs": [],
   "source": [
    "import pandas as pd\n",
    "from SPARQLWrapper import SPARQLWrapper, CSV\n",
    "from io import StringIO\n",
    "import gensim"
   ]
  },
  {
   "cell_type": "code",
   "execution_count": 57,
   "metadata": {},
   "outputs": [],
   "source": [
    "def queryToDf(query):\n",
    "    sparql.setQuery(query)\n",
    "    sparql.setReturnFormat(CSV)\n",
    "    res = sparql.queryAndConvert()\n",
    "    resAsStr = res.decode('utf-8')\n",
    "\n",
    "    df = pd.read_csv(StringIO(resAsStr))\n",
    "    return df"
   ]
  },
  {
   "cell_type": "markdown",
   "metadata": {},
   "source": [
    "# Knowledge verification\n",
    "In this notebook we will use an existing w2v model to verify triples with *true* knowledge from dbpedia.org and reject *fake* knowledge.\n",
    "\n",
    "As an existing w2v model, we use the Google news vectors downloaded from: https://code.google.com/archive/p/word2vec/"
   ]
  },
  {
   "cell_type": "code",
   "execution_count": 2,
   "metadata": {},
   "outputs": [],
   "source": [
    "modelName = 'GoogleNews-vectors-negative300.bin'\n",
    "model = gensim.models.KeyedVectors.load_word2vec_format(modelName, binary=True)"
   ]
  },
  {
   "cell_type": "code",
   "execution_count": 3,
   "metadata": {},
   "outputs": [],
   "source": [
    "sparql = SPARQLWrapper(\"https://dbpedia.org/sparql\")"
   ]
  },
  {
   "cell_type": "markdown",
   "metadata": {},
   "source": [
    "## Capitals of the world\n",
    "We use the following SPARQL query to extract from DBpedia a collection of countries with their capitals."
   ]
  },
  {
   "cell_type": "code",
   "execution_count": 4,
   "metadata": {},
   "outputs": [
    {
     "name": "stdout",
     "output_type": "stream",
     "text": [
      "SELECT ?country_name ?capital_name ?population\n",
      "WHERE {\n",
      "  ?country rdf:type dbo:Country .\n",
      "  ?country dbo:capital ?capital .\n",
      "\n",
      "  ?capital rdfs:label  ?capital_name .\n",
      "  ?country rdfs:label  ?country_name .\n",
      "  ?country dbo:populationTotal ?population\n",
      "\n",
      "  FILTER (lang(?capital_name) = 'en')\n",
      "  FILTER (lang(?country_name) = 'en')\n",
      "  FILTER NOT EXISTS { ?country dbo:dissolutionYear ?yearEnd }\n",
      "  FILTER (?population > 500000)\n",
      "} LIMIT 1000\n",
      "\n"
     ]
    }
   ],
   "source": [
    "with open('capitals.sparql', 'r') as f:\n",
    "    query_capitals = f.read()\n",
    "print(query_capitals)"
   ]
  },
  {
   "cell_type": "markdown",
   "metadata": {},
   "source": [
    "**Note:** we take only countries which still exist in the present era and which have a population of more than 1/2 million. The assumpion being that GoogleNews does not have enough information about countries which no longer exist or countries which are too small to appear in the news frequently.\n",
    "    \n",
    "The results of this query look as follows:"
   ]
  },
  {
   "cell_type": "code",
   "execution_count": 14,
   "metadata": {},
   "outputs": [
    {
     "data": {
      "text/html": [
       "<div>\n",
       "<style scoped>\n",
       "    .dataframe tbody tr th:only-of-type {\n",
       "        vertical-align: middle;\n",
       "    }\n",
       "\n",
       "    .dataframe tbody tr th {\n",
       "        vertical-align: top;\n",
       "    }\n",
       "\n",
       "    .dataframe thead th {\n",
       "        text-align: right;\n",
       "    }\n",
       "</style>\n",
       "<table border=\"1\" class=\"dataframe\">\n",
       "  <thead>\n",
       "    <tr style=\"text-align: right;\">\n",
       "      <th></th>\n",
       "      <th>country_name</th>\n",
       "      <th>capital_name</th>\n",
       "      <th>population</th>\n",
       "    </tr>\n",
       "  </thead>\n",
       "  <tbody>\n",
       "    <tr>\n",
       "      <th>0</th>\n",
       "      <td>Albania</td>\n",
       "      <td>Tirana</td>\n",
       "      <td>2886026</td>\n",
       "    </tr>\n",
       "    <tr>\n",
       "      <th>1</th>\n",
       "      <td>Algeria</td>\n",
       "      <td>Algiers</td>\n",
       "      <td>40400000</td>\n",
       "    </tr>\n",
       "    <tr>\n",
       "      <th>2</th>\n",
       "      <td>Greece</td>\n",
       "      <td>Athens</td>\n",
       "      <td>10955000</td>\n",
       "    </tr>\n",
       "    <tr>\n",
       "      <th>3</th>\n",
       "      <td>Azerbaijan</td>\n",
       "      <td>Baku</td>\n",
       "      <td>9754830</td>\n",
       "    </tr>\n",
       "    <tr>\n",
       "      <th>4</th>\n",
       "      <td>Germany</td>\n",
       "      <td>Berlin</td>\n",
       "      <td>82175700</td>\n",
       "    </tr>\n",
       "    <tr>\n",
       "      <th>5</th>\n",
       "      <td>Brazil</td>\n",
       "      <td>Brasília</td>\n",
       "      <td>206440850</td>\n",
       "    </tr>\n",
       "    <tr>\n",
       "      <th>6</th>\n",
       "      <td>European Union</td>\n",
       "      <td>Brussels</td>\n",
       "      <td>510056011</td>\n",
       "    </tr>\n",
       "    <tr>\n",
       "      <th>7</th>\n",
       "      <td>Syria</td>\n",
       "      <td>Damascus</td>\n",
       "      <td>17064854</td>\n",
       "    </tr>\n",
       "    <tr>\n",
       "      <th>8</th>\n",
       "      <td>Finland</td>\n",
       "      <td>Helsinki</td>\n",
       "      <td>5488543</td>\n",
       "    </tr>\n",
       "    <tr>\n",
       "      <th>9</th>\n",
       "      <td>Indonesia</td>\n",
       "      <td>Jakarta</td>\n",
       "      <td>255461700</td>\n",
       "    </tr>\n",
       "  </tbody>\n",
       "</table>\n",
       "</div>"
      ],
      "text/plain": [
       "     country_name capital_name  population\n",
       "0         Albania       Tirana     2886026\n",
       "1         Algeria      Algiers    40400000\n",
       "2          Greece       Athens    10955000\n",
       "3      Azerbaijan         Baku     9754830\n",
       "4         Germany       Berlin    82175700\n",
       "5          Brazil     Brasília   206440850\n",
       "6  European Union     Brussels   510056011\n",
       "7           Syria     Damascus    17064854\n",
       "8         Finland     Helsinki     5488543\n",
       "9       Indonesia      Jakarta   255461700"
      ]
     },
     "execution_count": 14,
     "metadata": {},
     "output_type": "execute_result"
    }
   ],
   "source": [
    "df = queryToDf(query_capitals)\n",
    "df.head(10)"
   ]
  },
  {
   "cell_type": "markdown",
   "metadata": {},
   "source": [
    "Now we iterate over the table to verify our knowledge of capitals. Validation goes as follows:\n",
    "\n",
    "We take a known fact to define de concept of *capital* in w2v vector space. In this case we take as a given our knowledge that *London is the capital of the United Kingdom*:\n",
    "```.ttl\n",
    "London      dbo:capital     United Kingdom\n",
    "```\n",
    "\n",
    "Then from the *true* knowledge table extracted from DBpedia: \n",
    "```.ttl\n",
    "`capital`   dbo:capital     `country`\n",
    "```\n",
    "we take each country-capital pair and test it against our w2v model:\n",
    "```\n",
    "London - United_Kingdom + country = capital_according_to_w2v\n",
    "```\n",
    "**Note:** as long as `capital` is on the top 10 candidates of `capital_according_to_w2v`, we consider the knowledge to be correct."
   ]
  },
  {
   "cell_type": "code",
   "execution_count": 19,
   "metadata": {},
   "outputs": [],
   "source": [
    "def validateCapitalsKnowledge(country, capital):\n",
    "    candidates = model.most_similar(positive=['London', country], negative=['United_Kingdom'])\n",
    "    top10,score = zip(*candidates)\n",
    "    return capital in top10"
   ]
  },
  {
   "cell_type": "code",
   "execution_count": 21,
   "metadata": {},
   "outputs": [
    {
     "name": "stdout",
     "output_type": "stream",
     "text": [
      "0.7448275862068966\n"
     ]
    }
   ],
   "source": [
    "good = 0\n",
    "total = 0\n",
    "for idx, row in df.iterrows():\n",
    "    country = row['country_name']\n",
    "    capital = row['capital_name']\n",
    "    try:\n",
    "        country = country.replace(' ', '_')\n",
    "        capital = capital.replace(' ', '_')\n",
    "        result = validateCapitalsKnowledge(country, capital)\n",
    "        total += 1\n",
    "        if result:\n",
    "            good += 1\n",
    "        else:\n",
    "            # print(capital, country, result)\n",
    "            pass\n",
    "    except:\n",
    "        # print('Missing ', country, capital)\n",
    "        pass\n",
    "\n",
    "print(good / total)"
   ]
  },
  {
   "cell_type": "markdown",
   "metadata": {},
   "source": [
    "We achieve an accuracy of `74.48%`.\n",
    "\n",
    "Now we follow the same process to reject some *fake* knowledge."
   ]
  },
  {
   "cell_type": "code",
   "execution_count": 49,
   "metadata": {},
   "outputs": [
    {
     "name": "stdout",
     "output_type": "stream",
     "text": [
      "1.0\n"
     ]
    }
   ],
   "source": [
    "fake_capitals = [\n",
    "    ('France', 'Tokyo'),\n",
    "    ('France', 'Moon'),\n",
    "    ('France', 'Moscow'),\n",
    "    ('France', 'Germany'),\n",
    "    ('France', 'Amsterdam'),\n",
    "    ('France', 'Porto'),\n",
    "    ('France', 'Tenochtitlan'),\n",
    "    ('France', 'Dallas'),\n",
    "    ('Germany', 'Bristol'),\n",
    "    ('Germany', 'Exeter'),\n",
    "    ('Germany', 'Toluca'),\n",
    "    ('Germany', 'Veracruz'),\n",
    "    ('Germany', 'Beijing'),\n",
    "]\n",
    "\n",
    "rejected = 0\n",
    "for country,capital in fake_capitals:\n",
    "    result = validateCapitalsKnowledge(country, capital)\n",
    "    if not result:\n",
    "        rejected += 1\n",
    "    else:\n",
    "        print(country, capital, '-- must be within top 10')\n",
    "\n",
    "print(rejected / len(fake_capitals))"
   ]
  },
  {
   "cell_type": "markdown",
   "metadata": {},
   "source": [
    "All of our *fake* country-capital pairs have been rejected."
   ]
  },
  {
   "cell_type": "markdown",
   "metadata": {},
   "source": [
    "## Currencies of the world\n",
    "The following is the SPARQL query we use to extract the currencies from different countries in the world."
   ]
  },
  {
   "cell_type": "code",
   "execution_count": 22,
   "metadata": {},
   "outputs": [
    {
     "name": "stdout",
     "output_type": "stream",
     "text": [
      "SELECT ?country_name ?currency_name ?population\n",
      "WHERE {\n",
      "  ?country rdf:type dbo:Country .\n",
      "  ?country dbo:currency ?currency .\n",
      "\n",
      "  ?currency rdfs:label ?currency_name .\n",
      "  ?country rdfs:label  ?country_name .\n",
      "  ?country dbo:populationTotal ?population\n",
      "\n",
      "  FILTER (lang(?currency_name) = 'en')\n",
      "  FILTER (lang(?country_name) = 'en')\n",
      "  FILTER (?population > 500000)\n",
      "} LIMIT 5000\n",
      "\n"
     ]
    }
   ],
   "source": [
    "with open('currencies.sparql', 'r') as f:\n",
    "    query_currencies = f.read()\n",
    "print(query_currencies)"
   ]
  },
  {
   "cell_type": "markdown",
   "metadata": {},
   "source": [
    "**Note:** we take only countries which still exist in the present era and which have a population of more than 1/2 million. The assumpion being that GoogleNews does not have enough information about countries which no longer exist or countries which are too small to appear in the news frequently.\n",
    "\n",
    "The results of this query look as follows:"
   ]
  },
  {
   "cell_type": "code",
   "execution_count": 58,
   "metadata": {},
   "outputs": [
    {
     "data": {
      "text/html": [
       "<div>\n",
       "<style scoped>\n",
       "    .dataframe tbody tr th:only-of-type {\n",
       "        vertical-align: middle;\n",
       "    }\n",
       "\n",
       "    .dataframe tbody tr th {\n",
       "        vertical-align: top;\n",
       "    }\n",
       "\n",
       "    .dataframe thead th {\n",
       "        text-align: right;\n",
       "    }\n",
       "</style>\n",
       "<table border=\"1\" class=\"dataframe\">\n",
       "  <thead>\n",
       "    <tr style=\"text-align: right;\">\n",
       "      <th></th>\n",
       "      <th>country_name</th>\n",
       "      <th>currency_name</th>\n",
       "      <th>population</th>\n",
       "    </tr>\n",
       "  </thead>\n",
       "  <tbody>\n",
       "    <tr>\n",
       "      <th>0</th>\n",
       "      <td>North Korea</td>\n",
       "      <td>North Korean won</td>\n",
       "      <td>24895000</td>\n",
       "    </tr>\n",
       "    <tr>\n",
       "      <th>1</th>\n",
       "      <td>Brazil</td>\n",
       "      <td>Brazilian real</td>\n",
       "      <td>206440850</td>\n",
       "    </tr>\n",
       "    <tr>\n",
       "      <th>2</th>\n",
       "      <td>India</td>\n",
       "      <td>Indian rupee</td>\n",
       "      <td>1293057000</td>\n",
       "    </tr>\n",
       "    <tr>\n",
       "      <th>3</th>\n",
       "      <td>Mauritius</td>\n",
       "      <td>Mauritian rupee</td>\n",
       "      <td>1261208</td>\n",
       "    </tr>\n",
       "    <tr>\n",
       "      <th>4</th>\n",
       "      <td>Chile</td>\n",
       "      <td>Chilean peso</td>\n",
       "      <td>18006407</td>\n",
       "    </tr>\n",
       "    <tr>\n",
       "      <th>5</th>\n",
       "      <td>Nigeria</td>\n",
       "      <td>Nigerian naira</td>\n",
       "      <td>188462640</td>\n",
       "    </tr>\n",
       "    <tr>\n",
       "      <th>6</th>\n",
       "      <td>Haiti</td>\n",
       "      <td>Haitian gourde</td>\n",
       "      <td>10604000</td>\n",
       "    </tr>\n",
       "    <tr>\n",
       "      <th>7</th>\n",
       "      <td>Iran</td>\n",
       "      <td>Iranian rial</td>\n",
       "      <td>79200000</td>\n",
       "    </tr>\n",
       "    <tr>\n",
       "      <th>8</th>\n",
       "      <td>Oman</td>\n",
       "      <td>Omani rial</td>\n",
       "      <td>4441448</td>\n",
       "    </tr>\n",
       "    <tr>\n",
       "      <th>9</th>\n",
       "      <td>Macedonia (region)</td>\n",
       "      <td>Serbian dinar</td>\n",
       "      <td>4760000</td>\n",
       "    </tr>\n",
       "  </tbody>\n",
       "</table>\n",
       "</div>"
      ],
      "text/plain": [
       "         country_name     currency_name  population\n",
       "0         North Korea  North Korean won    24895000\n",
       "1              Brazil    Brazilian real   206440850\n",
       "2               India      Indian rupee  1293057000\n",
       "3           Mauritius   Mauritian rupee     1261208\n",
       "4               Chile      Chilean peso    18006407\n",
       "5             Nigeria    Nigerian naira   188462640\n",
       "6               Haiti    Haitian gourde    10604000\n",
       "7                Iran      Iranian rial    79200000\n",
       "8                Oman        Omani rial     4441448\n",
       "9  Macedonia (region)     Serbian dinar     4760000"
      ]
     },
     "execution_count": 58,
     "metadata": {},
     "output_type": "execute_result"
    }
   ],
   "source": [
    "df = queryToDf(query_currencies)\n",
    "df.head(10)"
   ]
  },
  {
   "cell_type": "markdown",
   "metadata": {},
   "source": [
    "Now we iterate over the table to verify our knowledge of currencies. Validation goes as follows:\n",
    "\n",
    "We take a known fact to define de concept of *national currency* in w2v vector space. In this case we take as a given our knowledge that *The mexican peso is the national currency of Mexico*:\n",
    "```.ttl\n",
    "Mexican_Peso      dbo:currency     Mexico\n",
    "```\n",
    "\n",
    "Then from the *true* knowledge table extracted from DBpedia: \n",
    "```.ttl\n",
    "`capital`   dbo:currency     `country`\n",
    "```\n",
    "we take each country-currency pair and test it against our w2v model:\n",
    "```\n",
    "Mexican_Peso - Mexico + country = currency_according_to_w2v\n",
    "```\n",
    "**Note:** as long as `currency` is on the top 20 candidates of `currency_according_to_w2v`, we consider the knowledge to be correct.\n",
    "\n",
    "**Note:** We use the *mexican peso* as our starting knowledge because *Pound* can lead to confusion with the unit of weight."
   ]
  },
  {
   "cell_type": "code",
   "execution_count": 50,
   "metadata": {},
   "outputs": [],
   "source": [
    "def validateCurrenciesKnowledge(country, currency):\n",
    "    candidates = model.most_similar(positive=['Mexican_Peso', country], negative=['Mexico'], topn=20)\n",
    "    top10,score = zip(*candidates)\n",
    "    currency = currency.lower()\n",
    "    top10 = [ item.lower() for item in top10 ]\n",
    "    return currency in top10"
   ]
  },
  {
   "cell_type": "code",
   "execution_count": 61,
   "metadata": {},
   "outputs": [
    {
     "name": "stdout",
     "output_type": "stream",
     "text": [
      "0.27564102564102566\n"
     ]
    }
   ],
   "source": [
    "good = 0\n",
    "total = 0\n",
    "for idx, row in df.iterrows():\n",
    "    country = row['country_name']\n",
    "    currency = row['currency_name']\n",
    "    try:\n",
    "        country = country.replace(' ', '_')\n",
    "        currency = currency.replace(' ', '_')\n",
    "        result = validateCurrenciesKnowledge(country, currency)\n",
    "        total += 1\n",
    "        if result:\n",
    "            good += 1\n",
    "        else:\n",
    "            # print(country, currency, result)\n",
    "            pass\n",
    "    except:\n",
    "        # print('Missing ', country, currency)\n",
    "        pass\n",
    "\n",
    "print(good / total)"
   ]
  },
  {
   "cell_type": "markdown",
   "metadata": {},
   "source": [
    "Only `27.56%` of our currencies actually can be verified by our w2v model -- this is probably because there is more ambiguity in the names of currencies.\n",
    "\n",
    "Still, we try to reject facts of currencies we know are mistaken."
   ]
  },
  {
   "cell_type": "code",
   "execution_count": 93,
   "metadata": {},
   "outputs": [
    {
     "name": "stdout",
     "output_type": "stream",
     "text": [
      "1.0\n"
     ]
    }
   ],
   "source": [
    "fake_currencies = [\n",
    "    ('Colombia', 'Euro'),\n",
    "    ('Colombia', 'Mexican_Peso'),\n",
    "    ('Colombia', 'Dollar'),\n",
    "    ('Japan', 'Euro'),\n",
    "    ('Japan', 'Dollar'),\n",
    "    ('Japan', 'Mexican_Peso'),\n",
    "    ('France', 'Euro'),\n",
    "]\n",
    "\n",
    "rejected = 0\n",
    "for country,currency in fake_currencies:\n",
    "    result = validateCurrenciesKnowledge(country, currency)\n",
    "    if not result:\n",
    "        rejected += 1\n",
    "    else:\n",
    "        print(country, currency, '-- must be within top 10')\n",
    "\n",
    "print(rejected / len(fake_currencies))"
   ]
  },
  {
   "cell_type": "markdown",
   "metadata": {},
   "source": [
    "All fake currencies have been rejected (unfortulately, also the one representing *The euro is the official currency of France*) -- again this seems to be because of GoogleNews not capturing these relationships."
   ]
  }
 ],
 "metadata": {
  "kernelspec": {
   "display_name": "Python 3",
   "language": "python",
   "name": "python3"
  },
  "language_info": {
   "codemirror_mode": {
    "name": "ipython",
    "version": 3
   },
   "file_extension": ".py",
   "mimetype": "text/x-python",
   "name": "python",
   "nbconvert_exporter": "python",
   "pygments_lexer": "ipython3",
   "version": "3.6.6"
  }
 },
 "nbformat": 4,
 "nbformat_minor": 2
}
