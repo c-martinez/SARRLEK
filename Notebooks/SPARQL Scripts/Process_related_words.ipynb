{
 "cells": [
  {
   "cell_type": "code",
   "execution_count": 1,
   "metadata": {},
   "outputs": [],
   "source": [
    "from rdflib import Graph, ConjunctiveGraph\n",
    "import pandas as pd\n",
    "pd.set_option('display.max_colwidth', -1)\n",
    "pd.set_option('display.max_rows', 500)\n",
    "\n",
    "g = ConjunctiveGraph()"
   ]
  },
  {
   "cell_type": "code",
   "execution_count": 2,
   "metadata": {},
   "outputs": [
    {
     "data": {
      "text/plain": [
       "<Graph identifier=file:///C:/Users/320026487/Downloads/NLP_Project/Radlex%26Clever/owlapi.xrdf (<class 'rdflib.graph.Graph'>)>"
      ]
     },
     "execution_count": 2,
     "metadata": {},
     "output_type": "execute_result"
    }
   ],
   "source": [
    "g.parse(\"Radlex&Clever/owlapi.xrdf\")"
   ]
  },
  {
   "cell_type": "code",
   "execution_count": 3,
   "metadata": {},
   "outputs": [
    {
     "data": {
      "text/plain": [
       "674842"
      ]
     },
     "execution_count": 3,
     "metadata": {},
     "output_type": "execute_result"
    }
   ],
   "source": [
    "len(g)"
   ]
  },
  {
   "cell_type": "code",
   "execution_count": 4,
   "metadata": {},
   "outputs": [],
   "source": [
    "for subj, pred, obj in g:\n",
    "    if (subj, pred, obj) not in g:\n",
    "        raise Exception(\"It better be!\")"
   ]
  },
  {
   "cell_type": "code",
   "execution_count": 46,
   "metadata": {},
   "outputs": [],
   "source": [
    "qry = \"\"\"\n",
    "PREFIX rdfs: <http://www.w3.org/2000/01/rdf-schema#>\n",
    "PREFIX radlex: <http://www.radlex.org/RID/#>\n",
    "\n",
    "SELECT DISTINCT ?RID ?name ?sub_name1 ?sub_name2 ?sub_name3 ?sub_name4 ?sub_name5 ?sub_name6 ?sub_name7 ?sub_name8 ?sub_name9 ?sub_name10 ?sub_name11 ?sub_name12\n",
    "WHERE\n",
    "{\n",
    " ?term radlex:Preferred_name ?name .\n",
    " ?term rdfs:label ?RID .\n",
    " FILTER regex(?RID,\"RID39128\",'i')\n",
    " OPTIONAL{?term radlex:Has_Subtype ?Sub_type1  .\n",
    " ?Sub_type1 radlex:Preferred_name ?sub_name1 .\n",
    " OPTIONAL{?Sub_type1 radlex:Has_Subtype ?Sub_type2  .\n",
    " ?Sub_type2 radlex:Preferred_name ?sub_name2 .\n",
    " OPTIONAL{?Sub_type2 radlex:Has_Subtype ?Sub_type3  .\n",
    " ?Sub_type3 radlex:Preferred_name ?sub_name3 .\n",
    "\n",
    " \n",
    "}}}}\n",
    " \"\"\"\n",
    "\n",
    "rows  = g.query(qry)\n"
   ]
  },
  {
   "cell_type": "code",
   "execution_count": 47,
   "metadata": {},
   "outputs": [
    {
     "data": {
      "text/plain": [
       "25"
      ]
     },
     "execution_count": 47,
     "metadata": {},
     "output_type": "execute_result"
    }
   ],
   "source": [
    "len(rows.bindings)"
   ]
  },
  {
   "cell_type": "code",
   "execution_count": 48,
   "metadata": {},
   "outputs": [],
   "source": [
    "res = [{str(k): str(v) for k, v in binding.items()} for binding in rows.bindings]"
   ]
  },
  {
   "cell_type": "code",
   "execution_count": 49,
   "metadata": {},
   "outputs": [
    {
     "data": {
      "text/html": [
       "<div>\n",
       "<style scoped>\n",
       "    .dataframe tbody tr th:only-of-type {\n",
       "        vertical-align: middle;\n",
       "    }\n",
       "\n",
       "    .dataframe tbody tr th {\n",
       "        vertical-align: top;\n",
       "    }\n",
       "\n",
       "    .dataframe thead th {\n",
       "        text-align: right;\n",
       "    }\n",
       "</style>\n",
       "<table border=\"1\" class=\"dataframe\">\n",
       "  <thead>\n",
       "    <tr style=\"text-align: right;\">\n",
       "      <th></th>\n",
       "      <th>RID</th>\n",
       "      <th>name</th>\n",
       "      <th>sub_name1</th>\n",
       "      <th>sub_name2</th>\n",
       "    </tr>\n",
       "  </thead>\n",
       "  <tbody>\n",
       "    <tr>\n",
       "      <th>0</th>\n",
       "      <td>RID39128</td>\n",
       "      <td>process</td>\n",
       "      <td>training</td>\n",
       "      <td>NaN</td>\n",
       "    </tr>\n",
       "    <tr>\n",
       "      <th>1</th>\n",
       "      <td>RID39128</td>\n",
       "      <td>process</td>\n",
       "      <td>treatment planning</td>\n",
       "      <td>NaN</td>\n",
       "    </tr>\n",
       "    <tr>\n",
       "      <th>2</th>\n",
       "      <td>RID39128</td>\n",
       "      <td>process</td>\n",
       "      <td>uptake</td>\n",
       "      <td>NaN</td>\n",
       "    </tr>\n",
       "    <tr>\n",
       "      <th>3</th>\n",
       "      <td>RID39128</td>\n",
       "      <td>process</td>\n",
       "      <td>stimulation</td>\n",
       "      <td>NaN</td>\n",
       "    </tr>\n",
       "    <tr>\n",
       "      <th>4</th>\n",
       "      <td>RID39128</td>\n",
       "      <td>process</td>\n",
       "      <td>suppression</td>\n",
       "      <td>NaN</td>\n",
       "    </tr>\n",
       "    <tr>\n",
       "      <th>5</th>\n",
       "      <td>RID39128</td>\n",
       "      <td>process</td>\n",
       "      <td>biological process</td>\n",
       "      <td>metabolism</td>\n",
       "    </tr>\n",
       "    <tr>\n",
       "      <th>6</th>\n",
       "      <td>RID39128</td>\n",
       "      <td>process</td>\n",
       "      <td>biological process</td>\n",
       "      <td>gestation</td>\n",
       "    </tr>\n",
       "    <tr>\n",
       "      <th>7</th>\n",
       "      <td>RID39128</td>\n",
       "      <td>process</td>\n",
       "      <td>biological process</td>\n",
       "      <td>swallowing</td>\n",
       "    </tr>\n",
       "    <tr>\n",
       "      <th>8</th>\n",
       "      <td>RID39128</td>\n",
       "      <td>process</td>\n",
       "      <td>biological process</td>\n",
       "      <td>voiding</td>\n",
       "    </tr>\n",
       "    <tr>\n",
       "      <th>9</th>\n",
       "      <td>RID39128</td>\n",
       "      <td>process</td>\n",
       "      <td>biological process</td>\n",
       "      <td>wall motion</td>\n",
       "    </tr>\n",
       "    <tr>\n",
       "      <th>10</th>\n",
       "      <td>RID39128</td>\n",
       "      <td>process</td>\n",
       "      <td>biological process</td>\n",
       "      <td>motor function</td>\n",
       "    </tr>\n",
       "    <tr>\n",
       "      <th>11</th>\n",
       "      <td>RID39128</td>\n",
       "      <td>process</td>\n",
       "      <td>biological process</td>\n",
       "      <td>periosteal reaction</td>\n",
       "    </tr>\n",
       "    <tr>\n",
       "      <th>12</th>\n",
       "      <td>RID39128</td>\n",
       "      <td>process</td>\n",
       "      <td>biological process</td>\n",
       "      <td>peristalsis</td>\n",
       "    </tr>\n",
       "    <tr>\n",
       "      <th>13</th>\n",
       "      <td>RID39128</td>\n",
       "      <td>process</td>\n",
       "      <td>change</td>\n",
       "      <td>NaN</td>\n",
       "    </tr>\n",
       "    <tr>\n",
       "      <th>14</th>\n",
       "      <td>RID39128</td>\n",
       "      <td>process</td>\n",
       "      <td>redistribution</td>\n",
       "      <td>NaN</td>\n",
       "    </tr>\n",
       "    <tr>\n",
       "      <th>15</th>\n",
       "      <td>RID39128</td>\n",
       "      <td>process</td>\n",
       "      <td>imaging protocol</td>\n",
       "      <td>NaN</td>\n",
       "    </tr>\n",
       "    <tr>\n",
       "      <th>16</th>\n",
       "      <td>RID39128</td>\n",
       "      <td>process</td>\n",
       "      <td>ventilation</td>\n",
       "      <td>NaN</td>\n",
       "    </tr>\n",
       "    <tr>\n",
       "      <th>17</th>\n",
       "      <td>RID39128</td>\n",
       "      <td>process</td>\n",
       "      <td>anesthesia</td>\n",
       "      <td>epidural anesthesia</td>\n",
       "    </tr>\n",
       "    <tr>\n",
       "      <th>18</th>\n",
       "      <td>RID39128</td>\n",
       "      <td>process</td>\n",
       "      <td>anesthesia</td>\n",
       "      <td>local anesthesia</td>\n",
       "    </tr>\n",
       "    <tr>\n",
       "      <th>19</th>\n",
       "      <td>RID39128</td>\n",
       "      <td>process</td>\n",
       "      <td>anesthesia</td>\n",
       "      <td>regional anesthesia</td>\n",
       "    </tr>\n",
       "    <tr>\n",
       "      <th>20</th>\n",
       "      <td>RID39128</td>\n",
       "      <td>process</td>\n",
       "      <td>anesthesia</td>\n",
       "      <td>spinal anesthesia</td>\n",
       "    </tr>\n",
       "    <tr>\n",
       "      <th>21</th>\n",
       "      <td>RID39128</td>\n",
       "      <td>process</td>\n",
       "      <td>anesthesia</td>\n",
       "      <td>general anesthesia</td>\n",
       "    </tr>\n",
       "    <tr>\n",
       "      <th>22</th>\n",
       "      <td>RID39128</td>\n",
       "      <td>process</td>\n",
       "      <td>anesthesia</td>\n",
       "      <td>tumescent anesthesia</td>\n",
       "    </tr>\n",
       "    <tr>\n",
       "      <th>23</th>\n",
       "      <td>RID39128</td>\n",
       "      <td>process</td>\n",
       "      <td>monitored anesthesia care</td>\n",
       "      <td>NaN</td>\n",
       "    </tr>\n",
       "    <tr>\n",
       "      <th>24</th>\n",
       "      <td>RID39128</td>\n",
       "      <td>process</td>\n",
       "      <td>motion</td>\n",
       "      <td>NaN</td>\n",
       "    </tr>\n",
       "  </tbody>\n",
       "</table>\n",
       "</div>"
      ],
      "text/plain": [
       "         RID     name                  sub_name1             sub_name2\n",
       "0   RID39128  process  training                   NaN                 \n",
       "1   RID39128  process  treatment planning         NaN                 \n",
       "2   RID39128  process  uptake                     NaN                 \n",
       "3   RID39128  process  stimulation                NaN                 \n",
       "4   RID39128  process  suppression                NaN                 \n",
       "5   RID39128  process  biological process         metabolism          \n",
       "6   RID39128  process  biological process         gestation           \n",
       "7   RID39128  process  biological process         swallowing          \n",
       "8   RID39128  process  biological process         voiding             \n",
       "9   RID39128  process  biological process         wall motion         \n",
       "10  RID39128  process  biological process         motor function      \n",
       "11  RID39128  process  biological process         periosteal reaction \n",
       "12  RID39128  process  biological process         peristalsis         \n",
       "13  RID39128  process  change                     NaN                 \n",
       "14  RID39128  process  redistribution             NaN                 \n",
       "15  RID39128  process  imaging protocol           NaN                 \n",
       "16  RID39128  process  ventilation                NaN                 \n",
       "17  RID39128  process  anesthesia                 epidural anesthesia \n",
       "18  RID39128  process  anesthesia                 local anesthesia    \n",
       "19  RID39128  process  anesthesia                 regional anesthesia \n",
       "20  RID39128  process  anesthesia                 spinal anesthesia   \n",
       "21  RID39128  process  anesthesia                 general anesthesia  \n",
       "22  RID39128  process  anesthesia                 tumescent anesthesia\n",
       "23  RID39128  process  monitored anesthesia care  NaN                 \n",
       "24  RID39128  process  motion                     NaN                 "
      ]
     },
     "execution_count": 49,
     "metadata": {},
     "output_type": "execute_result"
    }
   ],
   "source": [
    "df = pd.DataFrame(res)\n",
    "    \n",
    "df.head(200)"
   ]
  },
  {
   "cell_type": "code",
   "execution_count": 50,
   "metadata": {},
   "outputs": [],
   "source": [
    "Lst = [df['name'].tolist(), df['sub_name1'].tolist(), df['sub_name2'].tolist()]"
   ]
  },
  {
   "cell_type": "code",
   "execution_count": 51,
   "metadata": {},
   "outputs": [
    {
     "name": "stdout",
     "output_type": "stream",
     "text": [
      "[['process', 'process', 'process', 'process', 'process', 'process', 'process', 'process', 'process', 'process', 'process', 'process', 'process', 'process', 'process', 'process', 'process', 'process', 'process', 'process', 'process', 'process', 'process', 'process', 'process'], ['training', 'treatment planning', 'uptake', 'stimulation', 'suppression', 'biological process', 'biological process', 'biological process', 'biological process', 'biological process', 'biological process', 'biological process', 'biological process', 'change', 'redistribution', 'imaging protocol', 'ventilation', 'anesthesia', 'anesthesia', 'anesthesia', 'anesthesia', 'anesthesia', 'anesthesia', 'monitored anesthesia care', 'motion'], [nan, nan, nan, nan, nan, 'metabolism', 'gestation', 'swallowing', 'voiding', 'wall motion', 'motor function', 'periosteal reaction', 'peristalsis', nan, nan, nan, nan, 'epidural anesthesia', 'local anesthesia', 'regional anesthesia', 'spinal anesthesia', 'general anesthesia', 'tumescent anesthesia', nan, nan]]\n"
     ]
    }
   ],
   "source": [
    "print(Lst)"
   ]
  },
  {
   "cell_type": "code",
   "execution_count": 53,
   "metadata": {},
   "outputs": [
    {
     "name": "stdout",
     "output_type": "stream",
     "text": [
      "['change', 'periosteal reaction', 'gestation', 'voiding', 'general anesthesia', 'swallowing', 'redistribution', 'monitored anesthesia care', 'metabolism', 'motion', 'uptake', 'spinal anesthesia', 'process', 'imaging protocol', 'biological process', 'local anesthesia', 'peristalsis', 'stimulation', 'treatment planning', 'wall motion', 'epidural anesthesia', 'ventilation', 'suppression', 'anesthesia', 'tumescent anesthesia', 'training', 'motor function', 'regional anesthesia']\n"
     ]
    }
   ],
   "source": [
    "values = []\n",
    "for lists in Lst:\n",
    "    for string in lists:\n",
    "        if str(string) == 'nan':\n",
    "            pass\n",
    "        else:\n",
    "            values.append(string)\n",
    "\n",
    "values = list(set(values))\n",
    "dict_Radlex = {}\n",
    "dict_Radlex['Process_related_words'] = values\n",
    "print(dict_Radlex['Process_related_words'])"
   ]
  },
  {
   "cell_type": "code",
   "execution_count": null,
   "metadata": {},
   "outputs": [],
   "source": []
  }
 ],
 "metadata": {
  "kernelspec": {
   "display_name": "Python 3",
   "language": "python",
   "name": "python3"
  },
  "language_info": {
   "codemirror_mode": {
    "name": "ipython",
    "version": 3
   },
   "file_extension": ".py",
   "mimetype": "text/x-python",
   "name": "python",
   "nbconvert_exporter": "python",
   "pygments_lexer": "ipython3",
   "version": "3.6.5"
  }
 },
 "nbformat": 4,
 "nbformat_minor": 2
}
