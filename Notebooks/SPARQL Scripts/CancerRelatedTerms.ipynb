{
 "cells": [
  {
   "cell_type": "code",
   "execution_count": 1,
   "metadata": {},
   "outputs": [],
   "source": [
    "from rdflib import Graph, ConjunctiveGraph\n",
    "import pandas as pd\n",
    "pd.set_option('display.max_colwidth', -1)\n",
    "pd.set_option('display.max_rows', 500)\n",
    "\n",
    "g = ConjunctiveGraph()"
   ]
  },
  {
   "cell_type": "code",
   "execution_count": 2,
   "metadata": {},
   "outputs": [
    {
     "data": {
      "text/plain": [
       "<Graph identifier=file:///C:/Users/320026487/Downloads/NLP_Project/Radlex%26Clever/owlapi.xrdf (<class 'rdflib.graph.Graph'>)>"
      ]
     },
     "execution_count": 2,
     "metadata": {},
     "output_type": "execute_result"
    }
   ],
   "source": [
    "g.parse(\"Radlex&Clever/owlapi.xrdf\")"
   ]
  },
  {
   "cell_type": "code",
   "execution_count": 3,
   "metadata": {},
   "outputs": [
    {
     "data": {
      "text/plain": [
       "674842"
      ]
     },
     "execution_count": 3,
     "metadata": {},
     "output_type": "execute_result"
    }
   ],
   "source": [
    "len(g)"
   ]
  },
  {
   "cell_type": "code",
   "execution_count": 4,
   "metadata": {},
   "outputs": [],
   "source": [
    "for subj, pred, obj in g:\n",
    "    if (subj, pred, obj) not in g:\n",
    "        raise Exception(\"It better be!\")"
   ]
  },
  {
   "cell_type": "code",
   "execution_count": 14,
   "metadata": {},
   "outputs": [],
   "source": [
    "qry = \"\"\"\n",
    "PREFIX rdfs: <http://www.w3.org/2000/01/rdf-schema#>\n",
    "PREFIX radlex: <http://www.radlex.org/RID/#>\n",
    "\n",
    "SELECT DISTINCT ?RID ?name ?synonym ?sub_name1 ?sub1_RID ?sub_name2 ?sub2_RID ?sub_name3 ?sub3_RID ?synonym1 ?synonym2 ?synonym3 ?synonym4 ?synonym5 ?synonym6 ?Is_A_name1 ?Is_A_name2 ?Is_A_name3\n",
    "WHERE\n",
    "{\n",
    " ?term radlex:Preferred_name ?name .\n",
    " FILTER regex(?name,\"cancer\",'i')\n",
    " ?term rdfs:label ?RID .\n",
    " OPTIONAL{?term radlex:Synonym ?synonym  .}\n",
    " \n",
    " OPTIONAL{?term radlex:Has_Subtype ?Sub_type1  .\n",
    " ?Sub_type1 radlex:Preferred_name ?sub_name1 .\n",
    " ?Sub_type1 rdfs:label ?sub1_RID .\n",
    " \n",
    " OPTIONAL{?Sub_type1 radlex:Synonym ?synonym1  .}\n",
    " \n",
    " OPTIONAL{?Sub_type1 radlex:Has_Subtype ?Sub_type2  .\n",
    " ?Sub_type2 radlex:Preferred_name ?sub_name2 .\n",
    " ?Sub_type2 rdfs:label ?sub2_RID .\n",
    " \n",
    " OPTIONAL{?Sub_type2 radlex:Synonym ?synonym2  .}\n",
    " \n",
    " OPTIONAL{?Sub_type2 radlex:Has_Subtype ?Sub_type3  .\n",
    " ?Sub_type3 radlex:Preferred_name ?sub_name3 .\n",
    " ?Sub_type3 rdfs:label ?sub3_RID .\n",
    " \n",
    " OPTIONAL{?Sub_type3 radlex:Synonym ?synonym3  .}\n",
    " \n",
    "\n",
    " }}}}\n",
    " \"\"\"\n",
    "\n",
    "rows  = g.query(qry)\n"
   ]
  },
  {
   "cell_type": "code",
   "execution_count": 15,
   "metadata": {},
   "outputs": [
    {
     "data": {
      "text/plain": [
       "18"
      ]
     },
     "execution_count": 15,
     "metadata": {},
     "output_type": "execute_result"
    }
   ],
   "source": [
    "len(rows.bindings)"
   ]
  },
  {
   "cell_type": "code",
   "execution_count": 16,
   "metadata": {},
   "outputs": [],
   "source": [
    "res = [{str(k): str(v) for k, v in binding.items()} for binding in rows.bindings]"
   ]
  },
  {
   "cell_type": "code",
   "execution_count": 17,
   "metadata": {},
   "outputs": [
    {
     "data": {
      "text/html": [
       "<div>\n",
       "<style scoped>\n",
       "    .dataframe tbody tr th:only-of-type {\n",
       "        vertical-align: middle;\n",
       "    }\n",
       "\n",
       "    .dataframe tbody tr th {\n",
       "        vertical-align: top;\n",
       "    }\n",
       "\n",
       "    .dataframe thead th {\n",
       "        text-align: right;\n",
       "    }\n",
       "</style>\n",
       "<table border=\"1\" class=\"dataframe\">\n",
       "  <thead>\n",
       "    <tr style=\"text-align: right;\">\n",
       "      <th></th>\n",
       "      <th>RID</th>\n",
       "      <th>name</th>\n",
       "      <th>sub1_RID</th>\n",
       "      <th>sub_name1</th>\n",
       "      <th>synonym</th>\n",
       "      <th>synonym1</th>\n",
       "    </tr>\n",
       "  </thead>\n",
       "  <tbody>\n",
       "    <tr>\n",
       "      <th>0</th>\n",
       "      <td>RID45696</td>\n",
       "      <td>esophageal cancer</td>\n",
       "      <td>NaN</td>\n",
       "      <td>NaN</td>\n",
       "      <td>NaN</td>\n",
       "      <td>NaN</td>\n",
       "    </tr>\n",
       "    <tr>\n",
       "      <th>1</th>\n",
       "      <td>RID45697</td>\n",
       "      <td>head and neck cancer</td>\n",
       "      <td>NaN</td>\n",
       "      <td>NaN</td>\n",
       "      <td>NaN</td>\n",
       "      <td>NaN</td>\n",
       "    </tr>\n",
       "    <tr>\n",
       "      <th>2</th>\n",
       "      <td>RID45686</td>\n",
       "      <td>lung cancer</td>\n",
       "      <td>NaN</td>\n",
       "      <td>NaN</td>\n",
       "      <td>NaN</td>\n",
       "      <td>NaN</td>\n",
       "    </tr>\n",
       "    <tr>\n",
       "      <th>3</th>\n",
       "      <td>RID34623</td>\n",
       "      <td>gastric cancer</td>\n",
       "      <td>NaN</td>\n",
       "      <td>NaN</td>\n",
       "      <td>stomach cancer</td>\n",
       "      <td>NaN</td>\n",
       "    </tr>\n",
       "    <tr>\n",
       "      <th>4</th>\n",
       "      <td>RID49502</td>\n",
       "      <td>clinically significant prostate cancer</td>\n",
       "      <td>NaN</td>\n",
       "      <td>NaN</td>\n",
       "      <td>intermediate high risk prostate cancer</td>\n",
       "      <td>NaN</td>\n",
       "    </tr>\n",
       "    <tr>\n",
       "      <th>5</th>\n",
       "      <td>RID45684</td>\n",
       "      <td>colorectal cancer</td>\n",
       "      <td>NaN</td>\n",
       "      <td>NaN</td>\n",
       "      <td>NaN</td>\n",
       "      <td>NaN</td>\n",
       "    </tr>\n",
       "    <tr>\n",
       "      <th>6</th>\n",
       "      <td>RID45690</td>\n",
       "      <td>testicular cancer</td>\n",
       "      <td>NaN</td>\n",
       "      <td>NaN</td>\n",
       "      <td>NaN</td>\n",
       "      <td>NaN</td>\n",
       "    </tr>\n",
       "    <tr>\n",
       "      <th>7</th>\n",
       "      <td>RID45687</td>\n",
       "      <td>ovarian cancer</td>\n",
       "      <td>NaN</td>\n",
       "      <td>NaN</td>\n",
       "      <td>NaN</td>\n",
       "      <td>NaN</td>\n",
       "    </tr>\n",
       "    <tr>\n",
       "      <th>8</th>\n",
       "      <td>RID45685</td>\n",
       "      <td>endometrial cancer</td>\n",
       "      <td>NaN</td>\n",
       "      <td>NaN</td>\n",
       "      <td>NaN</td>\n",
       "      <td>NaN</td>\n",
       "    </tr>\n",
       "    <tr>\n",
       "      <th>9</th>\n",
       "      <td>RID45689</td>\n",
       "      <td>prostate cancer</td>\n",
       "      <td>RID49502</td>\n",
       "      <td>clinically significant prostate cancer</td>\n",
       "      <td>prostate cancer, NOS</td>\n",
       "      <td>intermediate high risk prostate cancer</td>\n",
       "    </tr>\n",
       "    <tr>\n",
       "      <th>10</th>\n",
       "      <td>RID45689</td>\n",
       "      <td>prostate cancer</td>\n",
       "      <td>RID49502</td>\n",
       "      <td>clinically significant prostate cancer</td>\n",
       "      <td>carcinoma of prostate</td>\n",
       "      <td>intermediate high risk prostate cancer</td>\n",
       "    </tr>\n",
       "    <tr>\n",
       "      <th>11</th>\n",
       "      <td>RID45689</td>\n",
       "      <td>prostate cancer</td>\n",
       "      <td>RID49502</td>\n",
       "      <td>clinically significant prostate cancer</td>\n",
       "      <td>cancer of prostate</td>\n",
       "      <td>intermediate high risk prostate cancer</td>\n",
       "    </tr>\n",
       "    <tr>\n",
       "      <th>12</th>\n",
       "      <td>RID45688</td>\n",
       "      <td>pancreatic cancer</td>\n",
       "      <td>NaN</td>\n",
       "      <td>NaN</td>\n",
       "      <td>NaN</td>\n",
       "      <td>NaN</td>\n",
       "    </tr>\n",
       "    <tr>\n",
       "      <th>13</th>\n",
       "      <td>RID45683</td>\n",
       "      <td>cervical cancer</td>\n",
       "      <td>NaN</td>\n",
       "      <td>NaN</td>\n",
       "      <td>NaN</td>\n",
       "      <td>NaN</td>\n",
       "    </tr>\n",
       "    <tr>\n",
       "      <th>14</th>\n",
       "      <td>RID45682</td>\n",
       "      <td>breast cancer</td>\n",
       "      <td>NaN</td>\n",
       "      <td>NaN</td>\n",
       "      <td>NaN</td>\n",
       "      <td>NaN</td>\n",
       "    </tr>\n",
       "    <tr>\n",
       "      <th>15</th>\n",
       "      <td>RID45744</td>\n",
       "      <td>cancer of unknown primary</td>\n",
       "      <td>NaN</td>\n",
       "      <td>NaN</td>\n",
       "      <td>NaN</td>\n",
       "      <td>NaN</td>\n",
       "    </tr>\n",
       "    <tr>\n",
       "      <th>16</th>\n",
       "      <td>RID45691</td>\n",
       "      <td>thyroid cancer</td>\n",
       "      <td>NaN</td>\n",
       "      <td>NaN</td>\n",
       "      <td>NaN</td>\n",
       "      <td>NaN</td>\n",
       "    </tr>\n",
       "    <tr>\n",
       "      <th>17</th>\n",
       "      <td>RID49705</td>\n",
       "      <td>inflammatory cancer skin invasion</td>\n",
       "      <td>NaN</td>\n",
       "      <td>NaN</td>\n",
       "      <td>NaN</td>\n",
       "      <td>NaN</td>\n",
       "    </tr>\n",
       "  </tbody>\n",
       "</table>\n",
       "</div>"
      ],
      "text/plain": [
       "         RID                                    name  sub1_RID  \\\n",
       "0   RID45696  esophageal cancer                       NaN        \n",
       "1   RID45697  head and neck cancer                    NaN        \n",
       "2   RID45686  lung cancer                             NaN        \n",
       "3   RID34623  gastric cancer                          NaN        \n",
       "4   RID49502  clinically significant prostate cancer  NaN        \n",
       "5   RID45684  colorectal cancer                       NaN        \n",
       "6   RID45690  testicular cancer                       NaN        \n",
       "7   RID45687  ovarian cancer                          NaN        \n",
       "8   RID45685  endometrial cancer                      NaN        \n",
       "9   RID45689  prostate cancer                         RID49502   \n",
       "10  RID45689  prostate cancer                         RID49502   \n",
       "11  RID45689  prostate cancer                         RID49502   \n",
       "12  RID45688  pancreatic cancer                       NaN        \n",
       "13  RID45683  cervical cancer                         NaN        \n",
       "14  RID45682  breast cancer                           NaN        \n",
       "15  RID45744  cancer of unknown primary               NaN        \n",
       "16  RID45691  thyroid cancer                          NaN        \n",
       "17  RID49705  inflammatory cancer skin invasion       NaN        \n",
       "\n",
       "                                 sub_name1  \\\n",
       "0   NaN                                      \n",
       "1   NaN                                      \n",
       "2   NaN                                      \n",
       "3   NaN                                      \n",
       "4   NaN                                      \n",
       "5   NaN                                      \n",
       "6   NaN                                      \n",
       "7   NaN                                      \n",
       "8   NaN                                      \n",
       "9   clinically significant prostate cancer   \n",
       "10  clinically significant prostate cancer   \n",
       "11  clinically significant prostate cancer   \n",
       "12  NaN                                      \n",
       "13  NaN                                      \n",
       "14  NaN                                      \n",
       "15  NaN                                      \n",
       "16  NaN                                      \n",
       "17  NaN                                      \n",
       "\n",
       "                                   synonym  \\\n",
       "0   NaN                                      \n",
       "1   NaN                                      \n",
       "2   NaN                                      \n",
       "3   stomach cancer                           \n",
       "4   intermediate high risk prostate cancer   \n",
       "5   NaN                                      \n",
       "6   NaN                                      \n",
       "7   NaN                                      \n",
       "8   NaN                                      \n",
       "9   prostate cancer, NOS                     \n",
       "10  carcinoma of prostate                    \n",
       "11  cancer of prostate                       \n",
       "12  NaN                                      \n",
       "13  NaN                                      \n",
       "14  NaN                                      \n",
       "15  NaN                                      \n",
       "16  NaN                                      \n",
       "17  NaN                                      \n",
       "\n",
       "                                  synonym1  \n",
       "0   NaN                                     \n",
       "1   NaN                                     \n",
       "2   NaN                                     \n",
       "3   NaN                                     \n",
       "4   NaN                                     \n",
       "5   NaN                                     \n",
       "6   NaN                                     \n",
       "7   NaN                                     \n",
       "8   NaN                                     \n",
       "9   intermediate high risk prostate cancer  \n",
       "10  intermediate high risk prostate cancer  \n",
       "11  intermediate high risk prostate cancer  \n",
       "12  NaN                                     \n",
       "13  NaN                                     \n",
       "14  NaN                                     \n",
       "15  NaN                                     \n",
       "16  NaN                                     \n",
       "17  NaN                                     "
      ]
     },
     "execution_count": 17,
     "metadata": {},
     "output_type": "execute_result"
    }
   ],
   "source": [
    "df = pd.DataFrame(res)\n",
    "    \n",
    "df.head(200)"
   ]
  },
  {
   "cell_type": "code",
   "execution_count": 19,
   "metadata": {},
   "outputs": [],
   "source": [
    "Lst = [df['name'].tolist(), df['sub_name1'].tolist(), df['synonym'].tolist(), df['synonym1'].tolist()]"
   ]
  },
  {
   "cell_type": "code",
   "execution_count": 20,
   "metadata": {},
   "outputs": [
    {
     "name": "stdout",
     "output_type": "stream",
     "text": [
      "[['esophageal cancer', 'head and neck cancer', 'lung cancer', 'gastric cancer', 'clinically significant prostate cancer', 'colorectal cancer', 'testicular cancer', 'ovarian cancer', 'endometrial cancer', 'prostate cancer', 'prostate cancer', 'prostate cancer', 'pancreatic cancer', 'cervical cancer', 'breast cancer', 'cancer of unknown primary', 'thyroid cancer', 'inflammatory cancer skin invasion'], [nan, nan, nan, nan, nan, nan, nan, nan, nan, 'clinically significant prostate cancer', 'clinically significant prostate cancer', 'clinically significant prostate cancer', nan, nan, nan, nan, nan, nan], [nan, nan, nan, 'stomach cancer', 'intermediate high risk prostate cancer', nan, nan, nan, nan, 'prostate cancer, NOS', 'carcinoma of prostate', 'cancer of prostate', nan, nan, nan, nan, nan, nan], [nan, nan, nan, nan, nan, nan, nan, nan, nan, 'intermediate high risk prostate cancer', 'intermediate high risk prostate cancer', 'intermediate high risk prostate cancer', nan, nan, nan, nan, nan, nan]]\n"
     ]
    }
   ],
   "source": [
    "print(Lst)"
   ]
  },
  {
   "cell_type": "code",
   "execution_count": 21,
   "metadata": {},
   "outputs": [
    {
     "name": "stdout",
     "output_type": "stream",
     "text": [
      "['clinically significant prostate cancer', 'head and neck cancer', 'cancer of unknown primary', 'colorectal cancer', 'testicular cancer', 'thyroid cancer', 'carcinoma of prostate', 'cervical cancer', 'inflammatory cancer skin invasion', 'prostate cancer, NOS', 'breast cancer', 'stomach cancer', 'intermediate high risk prostate cancer', 'ovarian cancer', 'prostate cancer', 'esophageal cancer', 'lung cancer', 'endometrial cancer', 'cancer of prostate', 'gastric cancer', 'pancreatic cancer']\n"
     ]
    }
   ],
   "source": [
    "Cancer_values = []\n",
    "for lists in Lst:\n",
    "    for string in lists:\n",
    "        if str(string) == 'nan':\n",
    "            pass\n",
    "        else:\n",
    "            Cancer_values.append(string)\n",
    "\n",
    "Cancer_values = list(set(Cancer_values))\n",
    "print(Cancer_values)"
   ]
  },
  {
   "cell_type": "code",
   "execution_count": null,
   "metadata": {},
   "outputs": [],
   "source": []
  }
 ],
 "metadata": {
  "kernelspec": {
   "display_name": "Python 3",
   "language": "python",
   "name": "python3"
  },
  "language_info": {
   "codemirror_mode": {
    "name": "ipython",
    "version": 3
   },
   "file_extension": ".py",
   "mimetype": "text/x-python",
   "name": "python",
   "nbconvert_exporter": "python",
   "pygments_lexer": "ipython3",
   "version": "3.6.5"
  }
 },
 "nbformat": 4,
 "nbformat_minor": 2
}
