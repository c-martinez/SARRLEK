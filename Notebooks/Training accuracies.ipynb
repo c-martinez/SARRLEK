{
 "cells": [
  {
   "cell_type": "code",
   "execution_count": 1,
   "metadata": {},
   "outputs": [],
   "source": [
    "import sys\n",
    "sys.path.append('../')\n",
    "\n",
    "import csv\n",
    "import torch\n",
    "import numpy as np\n",
    "\n",
    "from helpers import getEncoding\n",
    "from torchnn import classArrayToLabel"
   ]
  },
  {
   "cell_type": "code",
   "execution_count": 2,
   "metadata": {},
   "outputs": [],
   "source": [
    "w2v_vector_file = '../Data/Output/ct_report_unsupervised_W2V.csv'\n",
    "lda_vector_file = '../Data/Output/ct_report_unsupervised_LDA.csv'\n",
    "gt_file = '../Data/Output/ct_report_dmg_thoracic_only_LDAtrain_CHECKED_SAFE_COPY.csv'"
   ]
  },
  {
   "cell_type": "code",
   "execution_count": 3,
   "metadata": {},
   "outputs": [
    {
     "name": "stdout",
     "output_type": "stream",
     "text": [
      "encodeInfo:  {'encoding': 'ascii', 'confidence': 1.0, 'language': ''}\n"
     ]
    }
   ],
   "source": [
    "# Loading ground truth\n",
    "gt = {}\n",
    "\n",
    "encoding=getEncoding(gt_file)\n",
    "with open(gt_file, 'r', encoding=encoding) as gtin:\n",
    "    gtreader = csv.reader(gtin, delimiter=',')\n",
    "    for idx, c_cls, p_cls in gtreader:\n",
    "        gt[idx] = {\n",
    "            'C': c_cls,\n",
    "            'P': p_cls\n",
    "        }"
   ]
  },
  {
   "cell_type": "code",
   "execution_count": 4,
   "metadata": {},
   "outputs": [
    {
     "name": "stdout",
     "output_type": "stream",
     "text": [
      "encodeInfo:  {'encoding': 'ascii', 'confidence': 1.0, 'language': ''}\n"
     ]
    }
   ],
   "source": [
    "# Loading w2v data\n",
    "w2v_data = {}\n",
    "\n",
    "encoding=getEncoding(w2v_vector_file)\n",
    "with open(w2v_vector_file, 'r', encoding=encoding) as w2vin:\n",
    "    w2vreader = csv.reader(w2vin, delimiter=',')\n",
    "    for idx, vec in w2vreader:\n",
    "        if idx in gt:\n",
    "            vec = vec.replace('[', '') \\\n",
    "                      .replace(']', '') \\\n",
    "                      .replace('\\n', '')\n",
    "            vec = np.fromstring(vec, sep=' ', dtype=np.double)\n",
    "            w2v_data[idx] = vec"
   ]
  },
  {
   "cell_type": "code",
   "execution_count": 5,
   "metadata": {},
   "outputs": [],
   "source": [
    "# Loading w2v classifiers\n",
    "\n",
    "c_classifier_file = 'C_CLASSIFIER_W2V'\n",
    "p_classifier_file = 'P_CLASSIFIER_W2V'"
   ]
  },
  {
   "cell_type": "code",
   "execution_count": 6,
   "metadata": {},
   "outputs": [],
   "source": [
    "nn_c = torch.load(c_classifier_file).double()\n",
    "nn_p = torch.load(p_classifier_file).double()"
   ]
  },
  {
   "cell_type": "code",
   "execution_count": 7,
   "metadata": {},
   "outputs": [],
   "source": [
    "# Classifying w2v data\n",
    "\n",
    "correct_c = 0\n",
    "correct_p = 0\n",
    "\n",
    "for key, vector in w2v_data.items():\n",
    "    vector = torch.tensor(vector, dtype=torch.double)\n",
    "    c_pred = nn_c(vector)\n",
    "    p_pred = nn_p(vector)\n",
    "\n",
    "    c_label = classArrayToLabel(c_pred) + 'C'\n",
    "    p_label = classArrayToLabel(p_pred) + 'P'\n",
    "\n",
    "    correct_c += 1 if (gt[key]['C'] == c_label) else 0\n",
    "    correct_p += 1 if (gt[key]['P'] == p_label) else 0"
   ]
  },
  {
   "cell_type": "code",
   "execution_count": 8,
   "metadata": {},
   "outputs": [],
   "source": [
    "w2v_samples = len(w2v_data)\n",
    "\n",
    "acc_w2v_c = 100 * correct_c / w2v_samples\n",
    "acc_w2v_p = 100 * correct_p / w2v_samples"
   ]
  },
  {
   "cell_type": "code",
   "execution_count": null,
   "metadata": {},
   "outputs": [],
   "source": []
  },
  {
   "cell_type": "code",
   "execution_count": 9,
   "metadata": {},
   "outputs": [
    {
     "name": "stdout",
     "output_type": "stream",
     "text": [
      "encodeInfo:  {'encoding': 'ascii', 'confidence': 1.0, 'language': ''}\n"
     ]
    }
   ],
   "source": [
    "# Loading lda data\n",
    "lda_data = {}\n",
    "\n",
    "encoding=getEncoding(lda_vector_file)\n",
    "with open(lda_vector_file, 'r', encoding=encoding) as ldain:\n",
    "    ldareader = csv.reader(ldain, delimiter=',')\n",
    "    for idx, vec in ldareader:\n",
    "        if idx in gt:\n",
    "            vec = vec.replace('[', '') \\\n",
    "                      .replace(']', '') \\\n",
    "                      .replace('\\n', '')\n",
    "            vec = np.fromstring(vec, sep=' ', dtype=np.double)\n",
    "            lda_data[idx] = vec"
   ]
  },
  {
   "cell_type": "code",
   "execution_count": 10,
   "metadata": {},
   "outputs": [],
   "source": [
    "# Loading lda classifiers\n",
    "\n",
    "c_classifier_file = 'C_CLASSIFIER_LDA'\n",
    "p_classifier_file = 'P_CLASSIFIER_LDA'\n",
    "\n",
    "nn_c = torch.load(c_classifier_file).double()\n",
    "nn_p = torch.load(p_classifier_file).double()"
   ]
  },
  {
   "cell_type": "code",
   "execution_count": 11,
   "metadata": {},
   "outputs": [],
   "source": [
    "# Classifying lda data\n",
    "\n",
    "correct_c = 0\n",
    "correct_p = 0\n",
    "\n",
    "for key, vector in lda_data.items():\n",
    "    vector = torch.tensor(vector, dtype=torch.double)\n",
    "    c_pred = nn_c(vector)\n",
    "    p_pred = nn_p(vector)\n",
    "\n",
    "    c_label = classArrayToLabel(c_pred) + 'C'\n",
    "    p_label = classArrayToLabel(p_pred) + 'P'\n",
    "\n",
    "    correct_c += 1 if (gt[key]['C'] == c_label) else 0\n",
    "    correct_p += 1 if (gt[key]['P'] == p_label) else 0"
   ]
  },
  {
   "cell_type": "code",
   "execution_count": 12,
   "metadata": {},
   "outputs": [],
   "source": [
    "lda_samples = len(lda_data)\n",
    "\n",
    "acc_lda_c = 100 * correct_c / lda_samples\n",
    "acc_lda_p = 100 * correct_p / lda_samples"
   ]
  },
  {
   "cell_type": "markdown",
   "metadata": {},
   "source": [
    "# Training accuracy\n",
    "\n",
    "*NOTE: FLAIR training accuracy reported here are valuers reported by FLAIR and copied here from buildflair notebook.*"
   ]
  },
  {
   "cell_type": "code",
   "execution_count": 13,
   "metadata": {},
   "outputs": [
    {
     "name": "stdout",
     "output_type": "stream",
     "text": [
      "Training accuracy W2V for Cancer/No-Cancer  : 55.54 %\n",
      "Training accuracy W2V for Prog  /No-Prog    : 50.50 %\n",
      "\n",
      "Training accuracy LDA for Cancer/No-Cancer  : 44.46 %\n",
      "Training accuracy LDA for Prog  /No-Prog    : 23.32 %\n",
      "\n",
      "Training accuracy FLAIR for Cancer/No-Cancer: 73.05 %%\n",
      "Training accuracy FLAIR for Prog  /No-Prog  : 59.57 %%\n"
     ]
    }
   ],
   "source": [
    "print('Training accuracy W2V for Cancer/No-Cancer  : %2.2f %%'%acc_w2v_c)\n",
    "print('Training accuracy W2V for Prog  /No-Prog    : %2.2f %%'%acc_w2v_p)\n",
    "print()\n",
    "print('Training accuracy LDA for Cancer/No-Cancer  : %2.2f %%'%acc_lda_c)\n",
    "print('Training accuracy LDA for Prog  /No-Prog    : %2.2f %%'%acc_lda_p)\n",
    "print()\n",
    "print('Training accuracy FLAIR for Cancer/No-Cancer: 73.05 %%')\n",
    "print('Training accuracy FLAIR for Prog  /No-Prog  : 59.57 %%')"
   ]
  },
  {
   "cell_type": "code",
   "execution_count": null,
   "metadata": {},
   "outputs": [],
   "source": []
  }
 ],
 "metadata": {
  "kernelspec": {
   "display_name": "Python 3",
   "language": "python",
   "name": "python3"
  },
  "language_info": {
   "codemirror_mode": {
    "name": "ipython",
    "version": 3
   },
   "file_extension": ".py",
   "mimetype": "text/x-python",
   "name": "python",
   "nbconvert_exporter": "python",
   "pygments_lexer": "ipython3",
   "version": "3.6.7"
  }
 },
 "nbformat": 4,
 "nbformat_minor": 2
}
