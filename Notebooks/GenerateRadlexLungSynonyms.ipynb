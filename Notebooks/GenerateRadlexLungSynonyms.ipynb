{
 "cells": [
  {
   "cell_type": "code",
   "execution_count": 1,
   "metadata": {},
   "outputs": [],
   "source": [
    "import pandas as pd\n",
    "\n",
    "import sys\n",
    "sys.path.append('../') # Root of the repo\n",
    "\n",
    "from helpers import sparqlToDataframe, sparqlToTermDict, wordsToSingleToken"
   ]
  },
  {
   "cell_type": "code",
   "execution_count": 2,
   "metadata": {},
   "outputs": [],
   "source": [
    "subpart_qry = \"\"\"\n",
    "# This query gets right lung and left lung children and grand children\n",
    "# And maps back to RIGHT_LUNG or LEFT_LUNG\n",
    "PREFIX radlex: <http://www.radlex.org/RID/#>\n",
    "PREFIX rdfs: <http://www.w3.org/2000/01/rdf-schema#>\n",
    "\n",
    "SELECT ?rid ?seed_name ?name ?synonym \n",
    "WHERE {\n",
    "  {\n",
    "    SELECT ?rid ?seed_name WHERE {\n",
    "      VALUES ?seed { <http://www.radlex.org/RID/#RID1302> <http://www.radlex.org/RID/#RID1326> }\n",
    "      ?seed radlex:Preferred_name ?seed_name .\n",
    "      ?seed radlex:Has_Part{0,2} ?rid\n",
    "    }\n",
    "  } .\n",
    "  ?rid radlex:Preferred_name ?name .\n",
    "  OPTIONAL{?rid radlex:Synonym ?synonym  }\n",
    "} ORDER BY ?seed_name\n",
    "\"\"\""
   ]
  },
  {
   "cell_type": "code",
   "execution_count": 3,
   "metadata": {},
   "outputs": [],
   "source": [
    "subpartSparql_df = sparqlToTermDict(subpart_qry, keyColumn='name', nameCols=[ 'name', 'synonym' ])"
   ]
  },
  {
   "cell_type": "code",
   "execution_count": 4,
   "metadata": {},
   "outputs": [],
   "source": [
    "subpartKnowledge_df = pd.DataFrame([\n",
    "    { 'meanings': 'lt lung', 'keys' : 'LEFT_LUNG'  },\n",
    "    { 'meanings': 'rt lung', 'keys' : 'RIGHT_LUNG' },\n",
    "])"
   ]
  },
  {
   "cell_type": "code",
   "execution_count": 5,
   "metadata": {},
   "outputs": [],
   "source": [
    "subpart_df = pd.concat([subpartSparql_df, subpartKnowledge_df], ignore_index=True, sort=True)"
   ]
  },
  {
   "cell_type": "code",
   "execution_count": 9,
   "metadata": {},
   "outputs": [],
   "source": [
    "subpart_df.to_csv('../Data/clever_ext_lung_synonyms.txt',sep='|',index_label='id', \n",
    "                    columns=['meanings', 'keys'])"
   ]
  },
  {
   "cell_type": "code",
   "execution_count": null,
   "metadata": {},
   "outputs": [],
   "source": []
  },
  {
   "cell_type": "code",
   "execution_count": null,
   "metadata": {},
   "outputs": [],
   "source": []
  }
 ],
 "metadata": {
  "kernelspec": {
   "display_name": "Python 3",
   "language": "python",
   "name": "python3"
  },
  "language_info": {
   "codemirror_mode": {
    "name": "ipython",
    "version": 3
   },
   "file_extension": ".py",
   "mimetype": "text/x-python",
   "name": "python",
   "nbconvert_exporter": "python",
   "pygments_lexer": "ipython3",
   "version": "3.6.7"
  }
 },
 "nbformat": 4,
 "nbformat_minor": 2
}
