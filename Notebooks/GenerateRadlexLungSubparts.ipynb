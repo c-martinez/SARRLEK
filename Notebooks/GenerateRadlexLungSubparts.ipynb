{
 "cells": [
  {
   "cell_type": "code",
   "execution_count": 1,
   "metadata": {},
   "outputs": [],
   "source": [
    "import pandas as pd\n",
    "\n",
    "import sys\n",
    "sys.path.append('../') # Root of the repo\n",
    "\n",
    "from helpers import sparqlToDataframe, sparqlToTermDict, wordsToSingleToken"
   ]
  },
  {
   "cell_type": "code",
   "execution_count": 2,
   "metadata": {},
   "outputs": [],
   "source": [
    "parent_qry = \"\"\"\n",
    "# This query queries all decedents (children and grandchildren) of right lung \n",
    "# and left lung and maps them to their direct ancestor\n",
    "PREFIX radlex: <http://www.radlex.org/RID/#>\n",
    "PREFIX rdfs: <http://www.w3.org/2000/01/rdf-schema#>\n",
    "\n",
    "SELECT ?ancestor ?word\n",
    "WHERE {\n",
    "  {\n",
    "    SELECT (?root_name as ?ancestor) (?child_name as ?word) \n",
    "    WHERE {\n",
    "      VALUES ?root { <http://www.radlex.org/RID/#RID1302> <http://www.radlex.org/RID/#RID1326> }\n",
    "\n",
    "      ?root radlex:Has_Part ?child .\n",
    "\n",
    "      ?root radlex:Preferred_name ?root_name .\n",
    "      ?child radlex:Preferred_name ?child_name\n",
    "    }\n",
    "  } UNION {\n",
    "    SELECT (?child_name as ?ancestor) (?grandchild_name as ?word) \n",
    "    WHERE {\n",
    "      VALUES ?root { <http://www.radlex.org/RID/#RID1302> <http://www.radlex.org/RID/#RID1326> }\n",
    "\n",
    "      ?root  radlex:Has_Part ?child .\n",
    "      ?child radlex:Has_Part ?grandchild .\n",
    "\n",
    "      ?child radlex:Preferred_name ?child_name .\n",
    "      ?grandchild radlex:Preferred_name ?grandchild_name\n",
    "    }\n",
    "  }\n",
    "} ORDER BY ?word\n",
    "\"\"\""
   ]
  },
  {
   "cell_type": "code",
   "execution_count": 3,
   "metadata": {},
   "outputs": [],
   "source": [
    "grandparent_qry = \"\"\"\n",
    "# This query queries secondary decedents (grandchildren) of right lung and \n",
    "# left lung and maps them to RIGHT_LUNG or LEFT_LUNG \n",
    "PREFIX radlex: <http://www.radlex.org/RID/#>\n",
    "PREFIX rdfs: <http://www.w3.org/2000/01/rdf-schema#>\n",
    "\n",
    "SELECT (?root_name as ?ancestor) (?grandchild_name as ?word) \n",
    "WHERE {\n",
    "  VALUES ?root { <http://www.radlex.org/RID/#RID1302> <http://www.radlex.org/RID/#RID1326> }\n",
    "\n",
    "  ?root  radlex:Has_Part ?child .\n",
    "  ?child radlex:Has_Part ?grandchild .\n",
    "\n",
    "  ?root  radlex:Preferred_name ?root_name .\n",
    "  ?grandchild radlex:Preferred_name ?grandchild_name\n",
    "} ORDER BY ?word\n",
    "\"\"\""
   ]
  },
  {
   "cell_type": "code",
   "execution_count": null,
   "metadata": {},
   "outputs": [],
   "source": []
  },
  {
   "cell_type": "code",
   "execution_count": null,
   "metadata": {},
   "outputs": [],
   "source": [
    "\n"
   ]
  },
  {
   "cell_type": "code",
   "execution_count": 14,
   "metadata": {},
   "outputs": [],
   "source": [
    "parent_df = sparqlToTermDict(parent_qry, keyColumn='ancestor', nameCols=[ 'word' ])\n",
    "parent_df['meanings'] = parent_df['meanings'].apply(wordsToSingleToken)"
   ]
  },
  {
   "cell_type": "code",
   "execution_count": 15,
   "metadata": {},
   "outputs": [],
   "source": [
    "grandparent_df = sparqlToTermDict(grandparent_qry, keyColumn='ancestor', nameCols=[ 'word' ])\n",
    "grandparent_df['meanings'] = grandparent_df['meanings'].apply(wordsToSingleToken)"
   ]
  },
  {
   "cell_type": "code",
   "execution_count": null,
   "metadata": {},
   "outputs": [],
   "source": []
  },
  {
   "cell_type": "code",
   "execution_count": null,
   "metadata": {},
   "outputs": [],
   "source": []
  },
  {
   "cell_type": "code",
   "execution_count": null,
   "metadata": {},
   "outputs": [],
   "source": []
  },
  {
   "cell_type": "code",
   "execution_count": 16,
   "metadata": {},
   "outputs": [],
   "source": [
    "parent_df.to_csv('../Data/clever_ext_parent.txt',sep='|',index_label='id', \n",
    "                    columns=['meanings', 'keys'])\n",
    "grandparent_df.to_csv('../Data/clever_ext_grandparent.txt',sep='|',index_label='id', \n",
    "                    columns=['meanings', 'keys'])"
   ]
  },
  {
   "cell_type": "code",
   "execution_count": null,
   "metadata": {},
   "outputs": [],
   "source": []
  },
  {
   "cell_type": "code",
   "execution_count": null,
   "metadata": {},
   "outputs": [],
   "source": []
  }
 ],
 "metadata": {
  "kernelspec": {
   "display_name": "Python 3",
   "language": "python",
   "name": "python3"
  },
  "language_info": {
   "codemirror_mode": {
    "name": "ipython",
    "version": 3
   },
   "file_extension": ".py",
   "mimetype": "text/x-python",
   "name": "python",
   "nbconvert_exporter": "python",
   "pygments_lexer": "ipython3",
   "version": "3.6.7"
  }
 },
 "nbformat": 4,
 "nbformat_minor": 2
}
