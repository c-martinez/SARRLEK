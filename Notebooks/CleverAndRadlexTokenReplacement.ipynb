{
 "cells": [
  {
   "cell_type": "markdown",
   "metadata": {},
   "source": [
    "# Clever and Radlex (Right-lung) token replacement"
   ]
  },
  {
   "cell_type": "code",
   "execution_count": 43,
   "metadata": {},
   "outputs": [],
   "source": [
    "# Add repo root directory to path. script.py and cleverparser.py are there\n",
    "import sys\n",
    "sys.path.append('../') # One level above `Notebooks` directory"
   ]
  },
  {
   "cell_type": "code",
   "execution_count": 44,
   "metadata": {},
   "outputs": [],
   "source": [
    "from glob import glob\n",
    "\n",
    "from script0 import GetString, xml, getNPChunks\n",
    "from cleverparser import CleverParser"
   ]
  },
  {
   "cell_type": "markdown",
   "metadata": {},
   "source": [
    "## Testing CleverParser\n",
    "First we load clever terms from `clever_base_terminology.txt` and radlex `Right_lung.txt`. Then we load the NP chunks from a given xml file. \n",
    "On each chunk, we search for clever terms, and replace them by the corresponding category tag (e.g. `scan` -> `SCREEN`, `right lower lobe` -> `RIGHT_LUNG`)."
   ]
  },
  {
   "cell_type": "code",
   "execution_count": 45,
   "metadata": {},
   "outputs": [],
   "source": [
    "parser = CleverParser('../Data/clever_base_terminology.txt')\n",
    "parser.addTermDictionary('../Data/Right_lung.txt')"
   ]
  },
  {
   "cell_type": "code",
   "execution_count": 53,
   "metadata": {},
   "outputs": [],
   "source": [
    "for w,i in parser.trie.search_longest_patterns('right lower lobe-'):\n",
    "    print(w)"
   ]
  },
  {
   "cell_type": "markdown",
   "metadata": {},
   "source": [
    "First we run the replacement on one file, to see what it is doing."
   ]
  },
  {
   "cell_type": "code",
   "execution_count": 55,
   "metadata": {},
   "outputs": [
    {
     "name": "stdout",
     "output_type": "stream",
     "text": [
      "150 > 150\n",
      "cect scan thorax > cect SCREEN thorax\n",
      " 18.12 >  18.12\n",
      "2013 contrast enhanced scan of the thorax > 2013 contrast enhanced SCREEN of the thorax\n",
      "the thorax > the thorax\n",
      "case of ca lung > case of ca lung\n",
      "ca lung > ca lung\n",
      "follow up > follow up\n",
      "comparison > comparison\n",
      "previous ct > previous ct\n",
      "03/09/2013 > 03/09/2013\n",
      "volume loss > volume loss\n",
      "the right hemithorax with collapse of the upper lobe > the right hemithorax with collapse of the upper lobe\n",
      "collapse > collapse\n",
      "the upper lobe > the upper lobe\n",
      "ipsilateral shift of mediastinum > ipsilateral shift of mediastinum\n",
      "mediastinum > mediastinum\n",
      "the previously seen right hilar mass > the previously seen right hilar mass\n",
      "distal collapse consolidation > distal collapse consolidation\n",
      "previous scan > previous SCREEN\n",
      "the mass > the mass\n",
      "each other > each other\n",
      "subcm nodules in the right lower lobe > subcm nodules in the RIGHT_LUNG\n",
      "the right lower lobe > the RIGHT_LUNG\n",
      "severe centilobular emphysematous changes > severe centilobular emphysematous changes\n",
      "the both lungs > the both lungs\n",
      "predominantly the upper lobe > predominantly the upper lobe\n",
      "paraseptal emphysema > paraseptal emphysema\n",
      "unchanged enlarged nodes > unchanged enlarged nodes\n",
      "the superior mediastinum > the superior mediastinum\n",
      "right paratracheal, ap window > right paratracheal, ap window\n",
      "prevascular regions > prevascular regions\n",
      "largest > largest\n",
      "2.4 x 2.0 cm > 2.4 x 2.0 cm\n",
      "x > x\n",
      "2.0 cm > 2.0 cm\n",
      "unchanged > unchanged\n",
      "the previous scan > the previous SCREEN\n",
      "the pleural spaces > the pleural spaces\n",
      "the trachea & left main stem bronchi > the trachea & left main stem bronchi\n",
      "the heart & mediastinal great vessels > the heart & mediastinal great vessels\n",
      "few subcm hypodense lesions > few subcm hypodense lesions\n",
      "the liver > the liver\n",
      "no e/o destructive bone lesions > NEGEX destructive bone lesions\n",
      "destructive bone lesions > destructive bone lesions\n",
      "case of ca lung > case of ca lung\n",
      "ca lung > ca lung\n",
      "follow up > follow up\n",
      "comparison > comparison\n",
      "previous scan > previous SCREEN\n",
      "03/09/2013 the previously seen right hilar mass > 03/09/2013 the previously seen right hilar mass\n",
      "the previously seen right hilar mass > the previously seen right hilar mass\n",
      "distal collapse consolidation > distal collapse consolidation\n",
      "previous scan > previous SCREEN\n",
      "the mass > the mass\n",
      "each other > each other\n",
      "subcm nodules in the right lower lobe > subcm nodules in the RIGHT_LUNG\n",
      "the right lower lobe > the RIGHT_LUNG\n",
      "severe centilobular emphysematous changes > severe centilobular emphysematous changes\n",
      "the both lungs > the both lungs\n",
      "predominantly the upper lobe > predominantly the upper lobe\n",
      "paraseptal emphysema > paraseptal emphysema\n",
      "unchanged the mediastinal adenopathy > unchanged the mediastinal adenopathy\n"
     ]
    }
   ],
   "source": [
    "file = '../9.csv.xml'\n",
    "sofaString = GetString(file)\n",
    "NP_chunks = getNPChunks(file, sofaString)\n",
    "\n",
    "for chunk in NP_chunks:\n",
    "    chunk = chunk.replace('-', '')\n",
    "    newChunk = parser.replacement(chunk)\n",
    "    print(chunk, '>', newChunk)"
   ]
  }
 ],
 "metadata": {
  "kernelspec": {
   "display_name": "Python 3",
   "language": "python",
   "name": "python3"
  },
  "language_info": {
   "codemirror_mode": {
    "name": "ipython",
    "version": 3
   },
   "file_extension": ".py",
   "mimetype": "text/x-python",
   "name": "python",
   "nbconvert_exporter": "python",
   "pygments_lexer": "ipython3",
   "version": "3.6.6"
  }
 },
 "nbformat": 4,
 "nbformat_minor": 2
}
